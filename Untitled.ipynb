{
 "cells": [
  {
   "cell_type": "markdown",
   "id": "068b371e",
   "metadata": {},
   "source": [
    "NASA Worksheet"
   ]
  },
  {
   "cell_type": "markdown",
   "id": "7e2ccb52",
   "metadata": {},
   "source": [
    "Rules\n",
    "\n",
    "1.\tUse your preferred data processing tool/language (e.g. jupyter notebook, alteryx, pyspark, R, SQL etc) to answer any two of the following questions.\n",
    "\n",
    "Please refrain from using excel or any other spreadsheet tool to answer these questions.\n",
    "Proper comments and unit test cases are appreciated.\n",
    "Share the output data & the code.\n",
    "\n",
    "- What is the gender diversity among the Astronauts ?\n",
    "- What percentage of Astronauts has the keyword \"Engineering\" in their Undergraduate degree?\n",
    "- How many of them have been part of multiple space missions?\n",
    "- How many of them were born in \"Philadelphia\"?\n",
    "\n",
    "2.\tUse a data visualisation tool to identify & tell an interesting story from the dataset.\n"
   ]
  },
  {
   "cell_type": "markdown",
   "id": "06ccc2e3",
   "metadata": {},
   "source": [
    "Exploratory Data Analysis\n",
    "\n",
    "This dataset was published by the National Aeronautics and Space Administration as the \"Astronaut Fact Book\" (April 2013 edition). Active astronauts' mission names and flight statistics were updated from the NASA website.|"
   ]
  },
  {
   "cell_type": "code",
   "execution_count": 123,
   "id": "e2c0ab3f",
   "metadata": {},
   "outputs": [],
   "source": [
    "# let us start by importing important packages\n",
    "import numpy as np\n",
    "import pandas as pd\n",
    "import matplotlib.pyplot as plt"
   ]
  },
  {
   "cell_type": "code",
   "execution_count": 124,
   "id": "ddbe55c5",
   "metadata": {},
   "outputs": [],
   "source": [
    "# let is retrieve and check our dataset\n",
    "df = pd.read_csv('data\\Astronauts.csv')"
   ]
  },
  {
   "cell_type": "code",
   "execution_count": 125,
   "id": "c9b1e87b",
   "metadata": {},
   "outputs": [
    {
     "data": {
      "text/html": [
       "<div>\n",
       "<style scoped>\n",
       "    .dataframe tbody tr th:only-of-type {\n",
       "        vertical-align: middle;\n",
       "    }\n",
       "\n",
       "    .dataframe tbody tr th {\n",
       "        vertical-align: top;\n",
       "    }\n",
       "\n",
       "    .dataframe thead th {\n",
       "        text-align: right;\n",
       "    }\n",
       "</style>\n",
       "<table border=\"1\" class=\"dataframe\">\n",
       "  <thead>\n",
       "    <tr style=\"text-align: right;\">\n",
       "      <th></th>\n",
       "      <th>Name</th>\n",
       "      <th>Year</th>\n",
       "      <th>Group</th>\n",
       "      <th>Status</th>\n",
       "      <th>Birth Date</th>\n",
       "      <th>Birth Place</th>\n",
       "      <th>Gender</th>\n",
       "      <th>Alma Mater</th>\n",
       "      <th>Undergraduate Major</th>\n",
       "      <th>Graduate Major</th>\n",
       "      <th>Military Rank</th>\n",
       "      <th>Military Branch</th>\n",
       "      <th>Space Flights</th>\n",
       "      <th>Space Flight (hr)</th>\n",
       "      <th>Space Walks</th>\n",
       "      <th>Space Walks (hr)</th>\n",
       "      <th>Missions</th>\n",
       "      <th>Death Date</th>\n",
       "      <th>Death Mission</th>\n",
       "    </tr>\n",
       "  </thead>\n",
       "  <tbody>\n",
       "    <tr>\n",
       "      <th>0</th>\n",
       "      <td>Joseph M. Acaba</td>\n",
       "      <td>2004.0</td>\n",
       "      <td>19.0</td>\n",
       "      <td>Active</td>\n",
       "      <td>5/17/1967</td>\n",
       "      <td>Inglewood, CA</td>\n",
       "      <td>Male</td>\n",
       "      <td>University of California-Santa Barbara; Univer...</td>\n",
       "      <td>Geology</td>\n",
       "      <td>Geology</td>\n",
       "      <td>NaN</td>\n",
       "      <td>NaN</td>\n",
       "      <td>2</td>\n",
       "      <td>3307</td>\n",
       "      <td>2</td>\n",
       "      <td>13.0</td>\n",
       "      <td>STS-119 (Discovery), ISS-31/32 (Soyuz)</td>\n",
       "      <td>NaN</td>\n",
       "      <td>NaN</td>\n",
       "    </tr>\n",
       "    <tr>\n",
       "      <th>1</th>\n",
       "      <td>Loren W. Acton</td>\n",
       "      <td>NaN</td>\n",
       "      <td>NaN</td>\n",
       "      <td>Retired</td>\n",
       "      <td>3/7/1936</td>\n",
       "      <td>Lewiston, MT</td>\n",
       "      <td>Male</td>\n",
       "      <td>Montana State University; University of Colorado</td>\n",
       "      <td>Engineering Physics</td>\n",
       "      <td>Solar Physics</td>\n",
       "      <td>NaN</td>\n",
       "      <td>NaN</td>\n",
       "      <td>1</td>\n",
       "      <td>190</td>\n",
       "      <td>0</td>\n",
       "      <td>0.0</td>\n",
       "      <td>STS 51-F (Challenger)</td>\n",
       "      <td>NaN</td>\n",
       "      <td>NaN</td>\n",
       "    </tr>\n",
       "    <tr>\n",
       "      <th>2</th>\n",
       "      <td>James C. Adamson</td>\n",
       "      <td>1984.0</td>\n",
       "      <td>10.0</td>\n",
       "      <td>Retired</td>\n",
       "      <td>3/3/1946</td>\n",
       "      <td>Warsaw, NY</td>\n",
       "      <td>Male</td>\n",
       "      <td>US Military Academy; Princeton University</td>\n",
       "      <td>Engineering</td>\n",
       "      <td>Aerospace Engineering</td>\n",
       "      <td>Colonel</td>\n",
       "      <td>US Army (Retired)</td>\n",
       "      <td>2</td>\n",
       "      <td>334</td>\n",
       "      <td>0</td>\n",
       "      <td>0.0</td>\n",
       "      <td>STS-28 (Columbia), STS-43 (Atlantis)</td>\n",
       "      <td>NaN</td>\n",
       "      <td>NaN</td>\n",
       "    </tr>\n",
       "    <tr>\n",
       "      <th>3</th>\n",
       "      <td>Thomas D. Akers</td>\n",
       "      <td>1987.0</td>\n",
       "      <td>12.0</td>\n",
       "      <td>Retired</td>\n",
       "      <td>5/20/1951</td>\n",
       "      <td>St. Louis, MO</td>\n",
       "      <td>Male</td>\n",
       "      <td>University of Missouri-Rolla</td>\n",
       "      <td>Applied Mathematics</td>\n",
       "      <td>Applied Mathematics</td>\n",
       "      <td>Colonel</td>\n",
       "      <td>US Air Force (Retired)</td>\n",
       "      <td>4</td>\n",
       "      <td>814</td>\n",
       "      <td>4</td>\n",
       "      <td>29.0</td>\n",
       "      <td>STS-41 (Discovery), STS-49 (Endeavor), STS-61 ...</td>\n",
       "      <td>NaN</td>\n",
       "      <td>NaN</td>\n",
       "    </tr>\n",
       "    <tr>\n",
       "      <th>4</th>\n",
       "      <td>Buzz Aldrin</td>\n",
       "      <td>1963.0</td>\n",
       "      <td>3.0</td>\n",
       "      <td>Retired</td>\n",
       "      <td>1/20/1930</td>\n",
       "      <td>Montclair, NJ</td>\n",
       "      <td>Male</td>\n",
       "      <td>US Military Academy; MIT</td>\n",
       "      <td>Mechanical Engineering</td>\n",
       "      <td>Astronautics</td>\n",
       "      <td>Colonel</td>\n",
       "      <td>US Air Force (Retired)</td>\n",
       "      <td>2</td>\n",
       "      <td>289</td>\n",
       "      <td>2</td>\n",
       "      <td>8.0</td>\n",
       "      <td>Gemini 12, Apollo 11</td>\n",
       "      <td>NaN</td>\n",
       "      <td>NaN</td>\n",
       "    </tr>\n",
       "  </tbody>\n",
       "</table>\n",
       "</div>"
      ],
      "text/plain": [
       "               Name    Year  Group   Status Birth Date    Birth Place Gender  \\\n",
       "0   Joseph M. Acaba  2004.0   19.0   Active  5/17/1967  Inglewood, CA   Male   \n",
       "1    Loren W. Acton     NaN    NaN  Retired   3/7/1936   Lewiston, MT   Male   \n",
       "2  James C. Adamson  1984.0   10.0  Retired   3/3/1946     Warsaw, NY   Male   \n",
       "3   Thomas D. Akers  1987.0   12.0  Retired  5/20/1951  St. Louis, MO   Male   \n",
       "4       Buzz Aldrin  1963.0    3.0  Retired  1/20/1930  Montclair, NJ   Male   \n",
       "\n",
       "                                          Alma Mater     Undergraduate Major  \\\n",
       "0  University of California-Santa Barbara; Univer...                 Geology   \n",
       "1   Montana State University; University of Colorado     Engineering Physics   \n",
       "2          US Military Academy; Princeton University             Engineering   \n",
       "3                       University of Missouri-Rolla     Applied Mathematics   \n",
       "4                           US Military Academy; MIT  Mechanical Engineering   \n",
       "\n",
       "          Graduate Major Military Rank         Military Branch  Space Flights  \\\n",
       "0                Geology           NaN                     NaN              2   \n",
       "1          Solar Physics           NaN                     NaN              1   \n",
       "2  Aerospace Engineering       Colonel       US Army (Retired)              2   \n",
       "3    Applied Mathematics       Colonel  US Air Force (Retired)              4   \n",
       "4           Astronautics       Colonel  US Air Force (Retired)              2   \n",
       "\n",
       "   Space Flight (hr)  Space Walks  Space Walks (hr)  \\\n",
       "0               3307            2              13.0   \n",
       "1                190            0               0.0   \n",
       "2                334            0               0.0   \n",
       "3                814            4              29.0   \n",
       "4                289            2               8.0   \n",
       "\n",
       "                                            Missions Death Date Death Mission  \n",
       "0             STS-119 (Discovery), ISS-31/32 (Soyuz)        NaN           NaN  \n",
       "1                              STS 51-F (Challenger)        NaN           NaN  \n",
       "2               STS-28 (Columbia), STS-43 (Atlantis)        NaN           NaN  \n",
       "3  STS-41 (Discovery), STS-49 (Endeavor), STS-61 ...        NaN           NaN  \n",
       "4                               Gemini 12, Apollo 11        NaN           NaN  "
      ]
     },
     "execution_count": 125,
     "metadata": {},
     "output_type": "execute_result"
    }
   ],
   "source": [
    "df.head()"
   ]
  },
  {
   "cell_type": "code",
   "execution_count": 126,
   "id": "5435c70d",
   "metadata": {},
   "outputs": [
    {
     "data": {
      "text/plain": [
       "(357, 19)"
      ]
     },
     "execution_count": 126,
     "metadata": {},
     "output_type": "execute_result"
    }
   ],
   "source": [
    "df.shape"
   ]
  },
  {
   "cell_type": "code",
   "execution_count": 127,
   "id": "779a964a",
   "metadata": {
    "scrolled": true
   },
   "outputs": [
    {
     "data": {
      "text/plain": [
       "Name                     0\n",
       "Year                    27\n",
       "Group                   27\n",
       "Status                   0\n",
       "Birth Date               0\n",
       "Birth Place              0\n",
       "Gender                   0\n",
       "Alma Mater               1\n",
       "Undergraduate Major     22\n",
       "Graduate Major          59\n",
       "Military Rank          150\n",
       "Military Branch        146\n",
       "Space Flights            0\n",
       "Space Flight (hr)        0\n",
       "Space Walks              0\n",
       "Space Walks (hr)         0\n",
       "Missions                23\n",
       "Death Date             305\n",
       "Death Mission          341\n",
       "dtype: int64"
      ]
     },
     "execution_count": 127,
     "metadata": {},
     "output_type": "execute_result"
    }
   ],
   "source": [
    "df.isna().sum()"
   ]
  },
  {
   "cell_type": "code",
   "execution_count": 128,
   "id": "ba3acca0",
   "metadata": {
    "scrolled": true
   },
   "outputs": [
    {
     "data": {
      "text/html": [
       "<div>\n",
       "<style scoped>\n",
       "    .dataframe tbody tr th:only-of-type {\n",
       "        vertical-align: middle;\n",
       "    }\n",
       "\n",
       "    .dataframe tbody tr th {\n",
       "        vertical-align: top;\n",
       "    }\n",
       "\n",
       "    .dataframe thead th {\n",
       "        text-align: right;\n",
       "    }\n",
       "</style>\n",
       "<table border=\"1\" class=\"dataframe\">\n",
       "  <thead>\n",
       "    <tr style=\"text-align: right;\">\n",
       "      <th></th>\n",
       "      <th>Name</th>\n",
       "      <th>Year</th>\n",
       "      <th>Group</th>\n",
       "      <th>Status</th>\n",
       "      <th>Birth Date</th>\n",
       "      <th>Birth Place</th>\n",
       "      <th>Gender</th>\n",
       "      <th>Alma Mater</th>\n",
       "      <th>Undergraduate Major</th>\n",
       "      <th>Graduate Major</th>\n",
       "      <th>Military Rank</th>\n",
       "      <th>Military Branch</th>\n",
       "      <th>Space Flights</th>\n",
       "      <th>Space Flight (hr)</th>\n",
       "      <th>Space Walks</th>\n",
       "      <th>Space Walks (hr)</th>\n",
       "      <th>Missions</th>\n",
       "      <th>Death Date</th>\n",
       "      <th>Death Mission</th>\n",
       "    </tr>\n",
       "  </thead>\n",
       "  <tbody>\n",
       "  </tbody>\n",
       "</table>\n",
       "</div>"
      ],
      "text/plain": [
       "Empty DataFrame\n",
       "Columns: [Name, Year, Group, Status, Birth Date, Birth Place, Gender, Alma Mater, Undergraduate Major, Graduate Major, Military Rank, Military Branch, Space Flights, Space Flight (hr), Space Walks, Space Walks (hr), Missions, Death Date, Death Mission]\n",
       "Index: []"
      ]
     },
     "execution_count": 128,
     "metadata": {},
     "output_type": "execute_result"
    }
   ],
   "source": [
    "df[df.duplicated('Name')]"
   ]
  },
  {
   "cell_type": "markdown",
   "id": "02d7753e",
   "metadata": {},
   "source": [
    "### Question 1\n",
    "What is the gender diversity among the Astronauts ?"
   ]
  },
  {
   "cell_type": "code",
   "execution_count": 156,
   "id": "c6470a0a",
   "metadata": {},
   "outputs": [
    {
     "data": {
      "image/png": "[encoded data removed]",
      "text/plain": [
       "<Figure size 640x480 with 1 Axes>"
      ]
     },
     "metadata": {},
     "output_type": "display_data"
    }
   ],
   "source": [
    "plt.pie(df['Gender'].value_counts(), labels=df['Gender'].value_counts().index, autopct='%1.1f%%', colors= ['lightblue','pink'])\n",
    "plt.axis('equal')  # Equal aspect ratio ensures that the pie chart is circular.\n",
    "plt.title('Gender Diversity between Male and Female Astronauts')\n",
    "plt.show()"
   ]
  },
  {
   "cell_type": "markdown",
   "id": "8b91cc8e",
   "metadata": {},
   "source": [
    "### Answer\n",
    "The gender diversity in NASA is 86% Male and 14% Female."
   ]
  },
  {
   "cell_type": "markdown",
   "id": "586fa2f4",
   "metadata": {},
   "source": [
    "### Question number 2\n",
    "What percentage of Astronauts has the keyword \"Engineering\" in their Undergraduate degree?"
   ]
  },
  {
   "cell_type": "code",
   "execution_count": 132,
   "id": "de8c98d9",
   "metadata": {},
   "outputs": [
    {
     "data": {
      "text/plain": [
       "22"
      ]
     },
     "execution_count": 132,
     "metadata": {},
     "output_type": "execute_result"
    }
   ],
   "source": [
    "# on our first inspection we can see that Undergraduate Major is one column that has some missing data\n",
    "# since there are some that are missing let us fill it up by ratio so we wouldn't lose valuable data\n",
    "df['Undergraduate Major'].isna().sum()"
   ]
  },
  {
   "cell_type": "code",
   "execution_count": 133,
   "id": "1e1c1ae9",
   "metadata": {},
   "outputs": [],
   "source": [
    "#let us put a place holder to the missing data so that we can use the data\n",
    "df['Undergraduate Major'].fillna('abc', inplace = True)"
   ]
  },
  {
   "cell_type": "code",
   "execution_count": 145,
   "id": "90442413",
   "metadata": {},
   "outputs": [
    {
     "name": "stdout",
     "output_type": "stream",
     "text": [
      "13.856716417910446\n"
     ]
    }
   ],
   "source": [
    "# should count the number of current that has engineer in the title\n",
    "eng_df = df[df['Undergraduate Major'].str.contains('Engineer')]\n",
    "a, b = eng_df.shape\n",
    "\n",
    "#now let us compute the percentage\n",
    "x, y= df.shape\n",
    "# we subtract 22 because those are the missing values\n",
    "per = a / (x - 22)\n",
    "prob_eng = per*22 \n",
    "print(prob_eng)"
   ]
  },
  {
   "cell_type": "code",
   "execution_count": 135,
   "id": "3b572348",
   "metadata": {
    "scrolled": false
   },
   "outputs": [],
   "source": [
    "# replacing the calues from earlier to null again\n",
    "df['Undergraduate Major'][df['Undergraduate Major'] == 'abc'] = None"
   ]
  },
  {
   "cell_type": "code",
   "execution_count": 137,
   "id": "b92bcf26",
   "metadata": {},
   "outputs": [],
   "source": [
    "missing_indices = df[df['Undergraduate Major'].isnull()].index\n",
    "\n",
    "# Choose 5 random indices from the missing indices\n",
    "indices_to_fill = np.random.choice(missing_indices, 13, replace=False)\n",
    "\n",
    "# Fill the selected indices with the new value of 50\n",
    "df.loc[indices_to_fill, 'Undergraduate Major'] = 'Engineer'"
   ]
  },
  {
   "cell_type": "code",
   "execution_count": 139,
   "id": "e84e6420",
   "metadata": {},
   "outputs": [],
   "source": [
    "# assigning 'other' on the rest to have a value\n",
    "df['Undergraduate Major'].fillna('other', inplace = True)"
   ]
  },
  {
   "cell_type": "code",
   "execution_count": 213,
   "id": "4e1d459c",
   "metadata": {},
   "outputs": [
    {
     "data": {
      "text/plain": [
       "211"
      ]
     },
     "execution_count": 213,
     "metadata": {},
     "output_type": "execute_result"
    }
   ],
   "source": [
    "eng_df = df[df['Undergraduate Major'].str.contains('Engineer')]\n",
    "a, b = eng_df.shape\n",
    "x, y = df.shape\n",
    "a"
   ]
  },
  {
   "cell_type": "code",
   "execution_count": 195,
   "id": "f5e5dfcb",
   "metadata": {
    "scrolled": false
   },
   "outputs": [
    {
     "data": {
      "image/png": "[encoded data removed]",
      "text/plain": [
       "<Figure size 640x480 with 1 Axes>"
      ]
     },
     "metadata": {},
     "output_type": "display_data"
    }
   ],
   "source": [
    "plt.pie([a,x-a], labels=['Engineering', 'Others'], autopct='%1.1f%%')\n",
    "plt.title('Gender Diversity between Male and Female Astronauts')\n",
    "plt.show()"
   ]
  },
  {
   "cell_type": "markdown",
   "id": "3930cba3",
   "metadata": {},
   "source": [
    "### Answer\n",
    "There are 211 astronauts that has an Engineer in their Undergraduate."
   ]
  },
  {
   "cell_type": "markdown",
   "id": "3e641b30",
   "metadata": {},
   "source": [
    "### Question 3\n",
    "How many of them have been part of multiple space missions?"
   ]
  },
  {
   "cell_type": "code",
   "execution_count": 211,
   "id": "8ff9c542",
   "metadata": {},
   "outputs": [
    {
     "data": {
      "text/plain": [
       "(155, 19)"
      ]
     },
     "execution_count": 211,
     "metadata": {},
     "output_type": "execute_result"
    }
   ],
   "source": [
    "mult_mis = eng_df[eng_df['Space Flights'] > 1]\n",
    "mult_mis.shape"
   ]
  },
  {
   "cell_type": "markdown",
   "id": "5d53d12e",
   "metadata": {},
   "source": [
    "### Answer\n",
    "There are 155 astronauts that have been part of multiple space missions that have Engineer in their undergraduate major"
   ]
  },
  {
   "cell_type": "markdown",
   "id": "17fc9115",
   "metadata": {},
   "source": [
    "### Question 4\n",
    "How many of them were born in \"Philadelphia\"?"
   ]
  },
  {
   "cell_type": "code",
   "execution_count": 199,
   "id": "2ab28f2f",
   "metadata": {},
   "outputs": [
    {
     "data": {
      "text/plain": [
       "(6, 19)"
      ]
     },
     "execution_count": 199,
     "metadata": {},
     "output_type": "execute_result"
    }
   ],
   "source": [
    "# question 4) How many of them were born in \"Philadelphia\"?\n",
    "phil_born = eng_df[eng_df['Birth Place'].str.contains('Philadelphia')]\n",
    "phil_born.shape\n"
   ]
  },
  {
   "cell_type": "markdown",
   "id": "f748f1a5",
   "metadata": {},
   "source": [
    "### Answer\n",
    "There are 6 Astronauts that have Engineer in their undergraduate major that was born in Philadelphia"
   ]
  }
 ],
 "metadata": {
  "kernelspec": {
   "display_name": "Python 3 (ipykernel)",
   "language": "python",
   "name": "python3"
  },
  "language_info": {
   "codemirror_mode": {
    "name": "ipython",
    "version": 3
   },
   "file_extension": ".py",
   "mimetype": "text/x-python",
   "name": "python",
   "nbconvert_exporter": "python",
   "pygments_lexer": "ipython3",
   "version": "3.10.9"
  }
 },
 "nbformat": 4,
 "nbformat_minor": 5
}
